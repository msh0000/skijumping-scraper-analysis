{
 "cells": [
  {
   "cell_type": "markdown",
   "id": "2e4bdc3a-a523-44ad-acd9-0facb06d0fe7",
   "metadata": {},
   "source": [
    "# **Quick Overview of the 24/25 Ski Jumping Season Dataset**\n",
    "### Let's begin by importing pandas and initializing our DataFrames"
   ]
  },
  {
   "cell_type": "code",
   "execution_count": 2,
   "id": "5ef852ba-52f4-4b71-956e-04128f871684",
   "metadata": {
    "ExecuteTime": {
     "end_time": "2025-03-14T10:08:30.798043Z",
     "start_time": "2025-03-14T10:08:30.786183Z"
    }
   },
   "outputs": [],
   "source": [
    "import pandas as pd\n",
    "df_events = pd.read_csv(\"data/events.csv\",delimiter=\",\")\n",
    "df_results = pd.read_csv(\"data/results.csv\",delimiter=\",\")"
   ]
  },
  {
   "cell_type": "code",
   "execution_count": 3,
   "id": "9a0eab12-8165-4a56-ab8b-3995fdc03299",
   "metadata": {
    "ExecuteTime": {
     "end_time": "2025-03-14T10:08:30.812570Z",
     "start_time": "2025-03-14T10:08:30.799052Z"
    }
   },
   "outputs": [
    {
     "name": "stdout",
     "output_type": "stream",
     "text": [
      "<class 'pandas.core.frame.DataFrame'>\n",
      "RangeIndex: 30 entries, 0 to 29\n",
      "Data columns (total 6 columns):\n",
      " #   Column    Non-Null Count  Dtype \n",
      "---  ------    --------------  ----- \n",
      " 0   Event_id  30 non-null     int64 \n",
      " 1   Date      30 non-null     object\n",
      " 2   Country   30 non-null     object\n",
      " 3   City      30 non-null     object\n",
      " 4   HS_Point  30 non-null     int64 \n",
      " 5   K_Point   30 non-null     int64 \n",
      "dtypes: int64(3), object(3)\n",
      "memory usage: 1.5+ KB\n"
     ]
    }
   ],
   "source": [
    "df_events.info()"
   ]
  },
  {
   "cell_type": "code",
   "execution_count": 4,
   "id": "676a9aea-6ee8-4472-826b-3ef0bd5ff4e0",
   "metadata": {
    "ExecuteTime": {
     "end_time": "2025-03-14T10:08:36.788592Z",
     "start_time": "2025-03-14T10:08:36.780306Z"
    }
   },
   "outputs": [
    {
     "name": "stdout",
     "output_type": "stream",
     "text": [
      "<class 'pandas.core.frame.DataFrame'>\n",
      "RangeIndex: 1180 entries, 0 to 1179\n",
      "Data columns (total 7 columns):\n",
      " #   Column    Non-Null Count  Dtype  \n",
      "---  ------    --------------  -----  \n",
      " 0   Place     1180 non-null   object \n",
      " 1   Jumper    1180 non-null   object \n",
      " 2   Country   1180 non-null   object \n",
      " 3   Jump1     1180 non-null   float64\n",
      " 4   Jump2     688 non-null    float64\n",
      " 5   Points    1180 non-null   float64\n",
      " 6   Event_id  1180 non-null   int64  \n",
      "dtypes: float64(3), int64(1), object(3)\n",
      "memory usage: 64.7+ KB\n"
     ]
    }
   ],
   "source": [
    "df_results.info()"
   ]
  },
  {
   "cell_type": "code",
   "execution_count": 5,
   "id": "a3891e35-e4f0-4e4f-b14e-79ffa0b9823f",
   "metadata": {
    "ExecuteTime": {
     "end_time": "2025-03-14T10:08:43.066298Z",
     "start_time": "2025-03-14T10:08:43.058703Z"
    }
   },
   "outputs": [],
   "source": [
    "#When someone is DSQ  we consider him as 50th place\n",
    "df_results[\"Place\"] = pd.to_numeric(df_results[\"Place\"], errors=\"coerce\")\n",
    "df_results[\"Place\"] = df_results[\"Place\"].fillna(50).astype(int)\n"
   ]
  },
  {
   "cell_type": "markdown",
   "id": "ec1544c3-6556-48d1-95a5-e550d17266ac",
   "metadata": {},
   "source": [
    "**Both datasets seem fine - no missing values.\n",
    "Just a quick note: In the results dataset, sometimes the \"Jump2\" field has \"NaN.\" This happens when a jumper doesn't qualify for \"Jump2\" after \"Jump1\" (not in the top 30), or if the second round was canceled or didn't take place.\n",
    "Let's take a look at our datasets.**"
   ]
  },
  {
   "cell_type": "code",
   "execution_count": 6,
   "id": "4895425e-58a0-4ff5-867e-8e4a177393b3",
   "metadata": {
    "ExecuteTime": {
     "end_time": "2025-03-14T10:08:50.882131Z",
     "start_time": "2025-03-14T10:08:50.866512Z"
    }
   },
   "outputs": [
    {
     "data": {
      "text/plain": "   Event_id         Date    Country         City  HS_Point  K_Point\n0         1   23-11-2024   Norwegia  Lillehammer       140      123\n1         2   24-11-2024   Norwegia  Lillehammer       140      123\n2         3   30-11-2024  Finlandia         Ruka       142      120\n3         4   01-12-2024  Finlandia         Ruka       142      120\n4         5   07-12-2024     Polska        Wisła       134      120",
      "text/html": "<div>\n<style scoped>\n    .dataframe tbody tr th:only-of-type {\n        vertical-align: middle;\n    }\n\n    .dataframe tbody tr th {\n        vertical-align: top;\n    }\n\n    .dataframe thead th {\n        text-align: right;\n    }\n</style>\n<table border=\"1\" class=\"dataframe\">\n  <thead>\n    <tr style=\"text-align: right;\">\n      <th></th>\n      <th>Event_id</th>\n      <th>Date</th>\n      <th>Country</th>\n      <th>City</th>\n      <th>HS_Point</th>\n      <th>K_Point</th>\n    </tr>\n  </thead>\n  <tbody>\n    <tr>\n      <th>0</th>\n      <td>1</td>\n      <td>23-11-2024</td>\n      <td>Norwegia</td>\n      <td>Lillehammer</td>\n      <td>140</td>\n      <td>123</td>\n    </tr>\n    <tr>\n      <th>1</th>\n      <td>2</td>\n      <td>24-11-2024</td>\n      <td>Norwegia</td>\n      <td>Lillehammer</td>\n      <td>140</td>\n      <td>123</td>\n    </tr>\n    <tr>\n      <th>2</th>\n      <td>3</td>\n      <td>30-11-2024</td>\n      <td>Finlandia</td>\n      <td>Ruka</td>\n      <td>142</td>\n      <td>120</td>\n    </tr>\n    <tr>\n      <th>3</th>\n      <td>4</td>\n      <td>01-12-2024</td>\n      <td>Finlandia</td>\n      <td>Ruka</td>\n      <td>142</td>\n      <td>120</td>\n    </tr>\n    <tr>\n      <th>4</th>\n      <td>5</td>\n      <td>07-12-2024</td>\n      <td>Polska</td>\n      <td>Wisła</td>\n      <td>134</td>\n      <td>120</td>\n    </tr>\n  </tbody>\n</table>\n</div>"
     },
     "execution_count": 6,
     "metadata": {},
     "output_type": "execute_result"
    }
   ],
   "source": [
    "df_events.head()\n",
    "#Contains list of every single ski jumps event, it has its own unique id, and general info about the hill"
   ]
  },
  {
   "cell_type": "code",
   "execution_count": 7,
   "id": "ee0b862d-e923-4979-a2b6-d9f3702db288",
   "metadata": {
    "collapsed": false,
    "ExecuteTime": {
     "end_time": "2025-03-14T10:08:52.655747Z",
     "start_time": "2025-03-14T10:08:52.641508Z"
    }
   },
   "outputs": [
    {
     "data": {
      "text/plain": "   Place              Jumper  Country  Jump1  Jump2  Points  Event_id\n0      1        PASCHKE Pius   Niemcy  131.5  138.5   317.1         1\n1      2  TSCHOFENIG Daniel   Austria  132.5  132.5   309.2         1\n2      3   ORTNER Maximilian  Austria  132.0  131.5   307.1         1\n3      4        KRAFT Stefan  Austria  133.0  130.0   306.0         1\n4      5           HOERL Jan  Austria  128.5  130.0   300.9         1",
      "text/html": "<div>\n<style scoped>\n    .dataframe tbody tr th:only-of-type {\n        vertical-align: middle;\n    }\n\n    .dataframe tbody tr th {\n        vertical-align: top;\n    }\n\n    .dataframe thead th {\n        text-align: right;\n    }\n</style>\n<table border=\"1\" class=\"dataframe\">\n  <thead>\n    <tr style=\"text-align: right;\">\n      <th></th>\n      <th>Place</th>\n      <th>Jumper</th>\n      <th>Country</th>\n      <th>Jump1</th>\n      <th>Jump2</th>\n      <th>Points</th>\n      <th>Event_id</th>\n    </tr>\n  </thead>\n  <tbody>\n    <tr>\n      <th>0</th>\n      <td>1</td>\n      <td>PASCHKE Pius</td>\n      <td>Niemcy</td>\n      <td>131.5</td>\n      <td>138.5</td>\n      <td>317.1</td>\n      <td>1</td>\n    </tr>\n    <tr>\n      <th>1</th>\n      <td>2</td>\n      <td>TSCHOFENIG Daniel</td>\n      <td>Austria</td>\n      <td>132.5</td>\n      <td>132.5</td>\n      <td>309.2</td>\n      <td>1</td>\n    </tr>\n    <tr>\n      <th>2</th>\n      <td>3</td>\n      <td>ORTNER Maximilian</td>\n      <td>Austria</td>\n      <td>132.0</td>\n      <td>131.5</td>\n      <td>307.1</td>\n      <td>1</td>\n    </tr>\n    <tr>\n      <th>3</th>\n      <td>4</td>\n      <td>KRAFT Stefan</td>\n      <td>Austria</td>\n      <td>133.0</td>\n      <td>130.0</td>\n      <td>306.0</td>\n      <td>1</td>\n    </tr>\n    <tr>\n      <th>4</th>\n      <td>5</td>\n      <td>HOERL Jan</td>\n      <td>Austria</td>\n      <td>128.5</td>\n      <td>130.0</td>\n      <td>300.9</td>\n      <td>1</td>\n    </tr>\n  </tbody>\n</table>\n</div>"
     },
     "execution_count": 7,
     "metadata": {},
     "output_type": "execute_result"
    }
   ],
   "source": [
    "df_results.head()\n",
    "#Provides data about final result for every single event that took place till today (14-03-2025). Jump1 and Jump2 are lenghts of jumps,\n",
    "#and points are sum of final points get in both jumps (it includes wind/gate and judge points)"
   ]
  },
  {
   "cell_type": "markdown",
   "id": "c65b418d05031391",
   "metadata": {
    "collapsed": false
   },
   "source": [
    " **Merged tables**"
   ]
  },
  {
   "cell_type": "code",
   "execution_count": 8,
   "id": "afc7ab80-4439-42d8-a3e5-3fc0bd05340f",
   "metadata": {
    "ExecuteTime": {
     "end_time": "2025-03-14T10:08:56.907609Z",
     "start_time": "2025-03-14T10:08:56.882703Z"
    }
   },
   "outputs": [
    {
     "data": {
      "text/plain": "   Place              Jumper Country_x  Jump1  Jump2  Points  Event_id  \\\n0      1        PASCHKE Pius    Niemcy  131.5  138.5   317.1         1   \n1      2  TSCHOFENIG Daniel    Austria  132.5  132.5   309.2         1   \n2      3   ORTNER Maximilian   Austria  132.0  131.5   307.1         1   \n3      4        KRAFT Stefan   Austria  133.0  130.0   306.0         1   \n4      5           HOERL Jan   Austria  128.5  130.0   300.9         1   \n\n          Date Country_y         City  HS_Point  K_Point  \n0   23-11-2024  Norwegia  Lillehammer       140      123  \n1   23-11-2024  Norwegia  Lillehammer       140      123  \n2   23-11-2024  Norwegia  Lillehammer       140      123  \n3   23-11-2024  Norwegia  Lillehammer       140      123  \n4   23-11-2024  Norwegia  Lillehammer       140      123  ",
      "text/html": "<div>\n<style scoped>\n    .dataframe tbody tr th:only-of-type {\n        vertical-align: middle;\n    }\n\n    .dataframe tbody tr th {\n        vertical-align: top;\n    }\n\n    .dataframe thead th {\n        text-align: right;\n    }\n</style>\n<table border=\"1\" class=\"dataframe\">\n  <thead>\n    <tr style=\"text-align: right;\">\n      <th></th>\n      <th>Place</th>\n      <th>Jumper</th>\n      <th>Country_x</th>\n      <th>Jump1</th>\n      <th>Jump2</th>\n      <th>Points</th>\n      <th>Event_id</th>\n      <th>Date</th>\n      <th>Country_y</th>\n      <th>City</th>\n      <th>HS_Point</th>\n      <th>K_Point</th>\n    </tr>\n  </thead>\n  <tbody>\n    <tr>\n      <th>0</th>\n      <td>1</td>\n      <td>PASCHKE Pius</td>\n      <td>Niemcy</td>\n      <td>131.5</td>\n      <td>138.5</td>\n      <td>317.1</td>\n      <td>1</td>\n      <td>23-11-2024</td>\n      <td>Norwegia</td>\n      <td>Lillehammer</td>\n      <td>140</td>\n      <td>123</td>\n    </tr>\n    <tr>\n      <th>1</th>\n      <td>2</td>\n      <td>TSCHOFENIG Daniel</td>\n      <td>Austria</td>\n      <td>132.5</td>\n      <td>132.5</td>\n      <td>309.2</td>\n      <td>1</td>\n      <td>23-11-2024</td>\n      <td>Norwegia</td>\n      <td>Lillehammer</td>\n      <td>140</td>\n      <td>123</td>\n    </tr>\n    <tr>\n      <th>2</th>\n      <td>3</td>\n      <td>ORTNER Maximilian</td>\n      <td>Austria</td>\n      <td>132.0</td>\n      <td>131.5</td>\n      <td>307.1</td>\n      <td>1</td>\n      <td>23-11-2024</td>\n      <td>Norwegia</td>\n      <td>Lillehammer</td>\n      <td>140</td>\n      <td>123</td>\n    </tr>\n    <tr>\n      <th>3</th>\n      <td>4</td>\n      <td>KRAFT Stefan</td>\n      <td>Austria</td>\n      <td>133.0</td>\n      <td>130.0</td>\n      <td>306.0</td>\n      <td>1</td>\n      <td>23-11-2024</td>\n      <td>Norwegia</td>\n      <td>Lillehammer</td>\n      <td>140</td>\n      <td>123</td>\n    </tr>\n    <tr>\n      <th>4</th>\n      <td>5</td>\n      <td>HOERL Jan</td>\n      <td>Austria</td>\n      <td>128.5</td>\n      <td>130.0</td>\n      <td>300.9</td>\n      <td>1</td>\n      <td>23-11-2024</td>\n      <td>Norwegia</td>\n      <td>Lillehammer</td>\n      <td>140</td>\n      <td>123</td>\n    </tr>\n  </tbody>\n</table>\n</div>"
     },
     "execution_count": 8,
     "metadata": {},
     "output_type": "execute_result"
    }
   ],
   "source": [
    "df_merged = df_results.merge(df_events, on =\"Event_id\", how=\"left\")\n",
    "df_merged.head()"
   ]
  },
  {
   "cell_type": "markdown",
   "id": "d9d75ee04c1d1cb",
   "metadata": {
    "collapsed": false
   },
   "source": [
    "**Top 5 longest jumps**"
   ]
  },
  {
   "cell_type": "code",
   "execution_count": 9,
   "id": "9ec8012e-cb50-44e5-9692-9c01bdb398b7",
   "metadata": {
    "ExecuteTime": {
     "end_time": "2025-03-14T10:08:59.434542Z",
     "start_time": "2025-03-14T10:08:59.403340Z"
    }
   },
   "outputs": [
    {
     "data": {
      "text/plain": "                    Jumper   Country_x   Jump        City\n1931  FORFANG Johann Andre    Norwegia  235.0  Oberstdorf\n798     DESCHWANDEN Gregor  Szwajcaria  234.5  Oberstdorf\n1975    TSCHOFENIG Daniel      Austria  233.5  Oberstdorf\n1930             ZAJC Timi    Słowenia  233.0  Oberstdorf\n1973           WĄSEK Paweł      Polska  233.0  Oberstdorf",
      "text/html": "<div>\n<style scoped>\n    .dataframe tbody tr th:only-of-type {\n        vertical-align: middle;\n    }\n\n    .dataframe tbody tr th {\n        vertical-align: top;\n    }\n\n    .dataframe thead th {\n        text-align: right;\n    }\n</style>\n<table border=\"1\" class=\"dataframe\">\n  <thead>\n    <tr style=\"text-align: right;\">\n      <th></th>\n      <th>Jumper</th>\n      <th>Country_x</th>\n      <th>Jump</th>\n      <th>City</th>\n    </tr>\n  </thead>\n  <tbody>\n    <tr>\n      <th>1931</th>\n      <td>FORFANG Johann Andre</td>\n      <td>Norwegia</td>\n      <td>235.0</td>\n      <td>Oberstdorf</td>\n    </tr>\n    <tr>\n      <th>798</th>\n      <td>DESCHWANDEN Gregor</td>\n      <td>Szwajcaria</td>\n      <td>234.5</td>\n      <td>Oberstdorf</td>\n    </tr>\n    <tr>\n      <th>1975</th>\n      <td>TSCHOFENIG Daniel</td>\n      <td>Austria</td>\n      <td>233.5</td>\n      <td>Oberstdorf</td>\n    </tr>\n    <tr>\n      <th>1930</th>\n      <td>ZAJC Timi</td>\n      <td>Słowenia</td>\n      <td>233.0</td>\n      <td>Oberstdorf</td>\n    </tr>\n    <tr>\n      <th>1973</th>\n      <td>WĄSEK Paweł</td>\n      <td>Polska</td>\n      <td>233.0</td>\n      <td>Oberstdorf</td>\n    </tr>\n  </tbody>\n</table>\n</div>"
     },
     "execution_count": 9,
     "metadata": {},
     "output_type": "execute_result"
    }
   ],
   "source": [
    "df_jumps1 = df_merged[[\"Jumper\",\"Country_x\", \"Jump1\", \"City\"]].rename(columns={\"Jump1\": \"Jump\"})\n",
    "df_jumps2 = df_merged[[\"Jumper\",\"Country_x\", \"Jump2\", \"City\"]].rename(columns={\"Jump2\": \"Jump\"})\n",
    "\n",
    "df_jumps = pd.concat([df_jumps1, df_jumps2], ignore_index=True)\n",
    "dfx = df_jumps.nlargest(5,\"Jump\")\n",
    "dfx"
   ]
  },
  {
   "cell_type": "markdown",
   "id": "5233d6d02f479c78",
   "metadata": {
    "collapsed": false
   },
   "source": [
    "**Top 5 shortest jumps**"
   ]
  },
  {
   "cell_type": "code",
   "execution_count": 10,
   "id": "4e35f464-2f66-402c-91b4-29f5f4906adc",
   "metadata": {
    "ExecuteTime": {
     "end_time": "2025-03-14T10:09:06.992386Z",
     "start_time": "2025-03-14T10:09:06.981631Z"
    }
   },
   "outputs": [
    {
     "data": {
      "text/plain": "                    Jumper Country_x  Jump  City\n198       HAYBOECK Michael   Austria  70.0  Ruka\n197  GRANERUD Halvor Egner  Norwegia  71.5  Ruka\n148            AIGRO Artti   Estonia  75.0  Ruka\n149            WĄSEK Paweł    Polska  75.5  Ruka\n196              KOS Lovro  Słowenia  79.0  Ruka",
      "text/html": "<div>\n<style scoped>\n    .dataframe tbody tr th:only-of-type {\n        vertical-align: middle;\n    }\n\n    .dataframe tbody tr th {\n        vertical-align: top;\n    }\n\n    .dataframe thead th {\n        text-align: right;\n    }\n</style>\n<table border=\"1\" class=\"dataframe\">\n  <thead>\n    <tr style=\"text-align: right;\">\n      <th></th>\n      <th>Jumper</th>\n      <th>Country_x</th>\n      <th>Jump</th>\n      <th>City</th>\n    </tr>\n  </thead>\n  <tbody>\n    <tr>\n      <th>198</th>\n      <td>HAYBOECK Michael</td>\n      <td>Austria</td>\n      <td>70.0</td>\n      <td>Ruka</td>\n    </tr>\n    <tr>\n      <th>197</th>\n      <td>GRANERUD Halvor Egner</td>\n      <td>Norwegia</td>\n      <td>71.5</td>\n      <td>Ruka</td>\n    </tr>\n    <tr>\n      <th>148</th>\n      <td>AIGRO Artti</td>\n      <td>Estonia</td>\n      <td>75.0</td>\n      <td>Ruka</td>\n    </tr>\n    <tr>\n      <th>149</th>\n      <td>WĄSEK Paweł</td>\n      <td>Polska</td>\n      <td>75.5</td>\n      <td>Ruka</td>\n    </tr>\n    <tr>\n      <th>196</th>\n      <td>KOS Lovro</td>\n      <td>Słowenia</td>\n      <td>79.0</td>\n      <td>Ruka</td>\n    </tr>\n  </tbody>\n</table>\n</div>"
     },
     "execution_count": 10,
     "metadata": {},
     "output_type": "execute_result"
    }
   ],
   "source": [
    "dfx = df_jumps[df_jumps[\"Jump\"]>0].nsmallest(5,\"Jump\")\n",
    "dfx"
   ]
  },
  {
   "cell_type": "markdown",
   "id": "6dc1753c-199a-4ebd-806b-7c0f97ddd244",
   "metadata": {},
   "source": [
    "## All winners of competitions"
   ]
  },
  {
   "cell_type": "markdown",
   "id": "e70987d2-014e-4269-9204-e7bc296d11ec",
   "metadata": {},
   "source": [
    "Winner = 1st place \n",
    "\n",
    "Podium = 1st, 2nd or 3rd place"
   ]
  },
  {
   "cell_type": "code",
   "execution_count": 11,
   "id": "ab9065e0-13e5-4389-ae8d-4af33a8a23bd",
   "metadata": {
    "scrolled": true,
    "ExecuteTime": {
     "end_time": "2025-03-14T10:09:18.456080Z",
     "start_time": "2025-03-14T10:09:18.419656Z"
    }
   },
   "outputs": [
    {
     "data": {
      "text/plain": "                           winner  podium\nJumper                                   \nTSCHOFENIG Daniel               8      15\nPASCHKE Pius                    5       7\nKOBAYASHI Ryoyu                 3       3\nHOERL Jan                       2      14\nKRAFT Stefan                    2       7\nFORFANG Johann Andre            1       6\nPREVC Domen                     1       3\nWELLINGER Andreas               1       1\nZAJC Timi                       1       1\nDESCHWANDEN Gregor              0       4\nHAYBOECK Michael                0       3\nGEIGER Karl                     0       2\nLANISEK Anze                    0       2\nORTNER Maximilian               0       2\nLINDVIK Marius                  0       1\nSUNDAL Kristoffer Eriksen       0       1",
      "text/html": "<div>\n<style scoped>\n    .dataframe tbody tr th:only-of-type {\n        vertical-align: middle;\n    }\n\n    .dataframe tbody tr th {\n        vertical-align: top;\n    }\n\n    .dataframe thead th {\n        text-align: right;\n    }\n</style>\n<table border=\"1\" class=\"dataframe\">\n  <thead>\n    <tr style=\"text-align: right;\">\n      <th></th>\n      <th>winner</th>\n      <th>podium</th>\n    </tr>\n    <tr>\n      <th>Jumper</th>\n      <th></th>\n      <th></th>\n    </tr>\n  </thead>\n  <tbody>\n    <tr>\n      <th>TSCHOFENIG Daniel</th>\n      <td>8</td>\n      <td>15</td>\n    </tr>\n    <tr>\n      <th>PASCHKE Pius</th>\n      <td>5</td>\n      <td>7</td>\n    </tr>\n    <tr>\n      <th>KOBAYASHI Ryoyu</th>\n      <td>3</td>\n      <td>3</td>\n    </tr>\n    <tr>\n      <th>HOERL Jan</th>\n      <td>2</td>\n      <td>14</td>\n    </tr>\n    <tr>\n      <th>KRAFT Stefan</th>\n      <td>2</td>\n      <td>7</td>\n    </tr>\n    <tr>\n      <th>FORFANG Johann Andre</th>\n      <td>1</td>\n      <td>6</td>\n    </tr>\n    <tr>\n      <th>PREVC Domen</th>\n      <td>1</td>\n      <td>3</td>\n    </tr>\n    <tr>\n      <th>WELLINGER Andreas</th>\n      <td>1</td>\n      <td>1</td>\n    </tr>\n    <tr>\n      <th>ZAJC Timi</th>\n      <td>1</td>\n      <td>1</td>\n    </tr>\n    <tr>\n      <th>DESCHWANDEN Gregor</th>\n      <td>0</td>\n      <td>4</td>\n    </tr>\n    <tr>\n      <th>HAYBOECK Michael</th>\n      <td>0</td>\n      <td>3</td>\n    </tr>\n    <tr>\n      <th>GEIGER Karl</th>\n      <td>0</td>\n      <td>2</td>\n    </tr>\n    <tr>\n      <th>LANISEK Anze</th>\n      <td>0</td>\n      <td>2</td>\n    </tr>\n    <tr>\n      <th>ORTNER Maximilian</th>\n      <td>0</td>\n      <td>2</td>\n    </tr>\n    <tr>\n      <th>LINDVIK Marius</th>\n      <td>0</td>\n      <td>1</td>\n    </tr>\n    <tr>\n      <th>SUNDAL Kristoffer Eriksen</th>\n      <td>0</td>\n      <td>1</td>\n    </tr>\n  </tbody>\n</table>\n</div>"
     },
     "execution_count": 11,
     "metadata": {},
     "output_type": "execute_result"
    }
   ],
   "source": [
    "dfx = df_results.groupby(by=\"Jumper\").agg(\n",
    "    winner = (\"Place\",lambda x: (x == 1).sum() ), \n",
    "    podium=(\"Place\", lambda x: x.isin([1, 2, 3]).sum() )\n",
    ").sort_values(by=[\"winner\",\"podium\"], ascending=[False,False]\n",
    "             ).loc[lambda x: (x[\"winner\"] > 0) | (x[\"podium\"] > 0)]\n",
    "dfx"
   ]
  },
  {
   "cell_type": "markdown",
   "id": "edb40563-7dc3-48b3-8481-326ecda9ae03",
   "metadata": {},
   "source": [
    "## Top 5 average places "
   ]
  },
  {
   "cell_type": "code",
   "execution_count": 12,
   "id": "a9b44145-5794-4fe4-a93d-e178dfb68879",
   "metadata": {
    "ExecuteTime": {
     "end_time": "2025-03-14T10:09:30.603415Z",
     "start_time": "2025-03-14T10:09:30.593298Z"
    }
   },
   "outputs": [
    {
     "data": {
      "text/plain": "                      Avg Place\nJumper                         \nTSCHOFENIG Daniel      3.458333\nHOERL Jan              4.250000\nKRAFT Stefan           7.458333\nDESCHWANDEN Gregor     9.416667\nFORFANG Johann Andre  10.521739",
      "text/html": "<div>\n<style scoped>\n    .dataframe tbody tr th:only-of-type {\n        vertical-align: middle;\n    }\n\n    .dataframe tbody tr th {\n        vertical-align: top;\n    }\n\n    .dataframe thead th {\n        text-align: right;\n    }\n</style>\n<table border=\"1\" class=\"dataframe\">\n  <thead>\n    <tr style=\"text-align: right;\">\n      <th></th>\n      <th>Avg Place</th>\n    </tr>\n    <tr>\n      <th>Jumper</th>\n      <th></th>\n    </tr>\n  </thead>\n  <tbody>\n    <tr>\n      <th>TSCHOFENIG Daniel</th>\n      <td>3.458333</td>\n    </tr>\n    <tr>\n      <th>HOERL Jan</th>\n      <td>4.250000</td>\n    </tr>\n    <tr>\n      <th>KRAFT Stefan</th>\n      <td>7.458333</td>\n    </tr>\n    <tr>\n      <th>DESCHWANDEN Gregor</th>\n      <td>9.416667</td>\n    </tr>\n    <tr>\n      <th>FORFANG Johann Andre</th>\n      <td>10.521739</td>\n    </tr>\n  </tbody>\n</table>\n</div>"
     },
     "execution_count": 12,
     "metadata": {},
     "output_type": "execute_result"
    }
   ],
   "source": [
    "places = df_results[[\"Jumper\",\"Place\"]].rename(columns={\"Place\":\"Avg Place\"}).groupby(by=\"Jumper\")\n",
    "avg_place = places.mean().sort_values(by=\"Avg Place\", ascending=True)\n",
    "avg_place.head(5)"
   ]
  },
  {
   "cell_type": "markdown",
   "id": "45937719-e950-4cfe-8843-800dbe3d433e",
   "metadata": {},
   "source": [
    "## Average places of Polish jumpers"
   ]
  },
  {
   "cell_type": "code",
   "execution_count": 13,
   "id": "12efdec3-6296-464b-9a1e-84c9ef5a151e",
   "metadata": {
    "ExecuteTime": {
     "end_time": "2025-03-14T10:09:41.541563Z",
     "start_time": "2025-03-14T10:09:41.532114Z"
    }
   },
   "outputs": [
    {
     "data": {
      "text/plain": "                      Avg Place\nJumper                         \nWĄSEK Paweł           16.583333\nSTOCH Kamil           25.333333\nZNISZCZOŁ Aleksander  25.363636\nKUBACKI Dawid         26.823529\nWOLNY Jakub           29.611111\nŻYŁA Piotr            31.571429\nKOT Maciej            36.428571\nJUROSZEK Kacper       41.500000",
      "text/html": "<div>\n<style scoped>\n    .dataframe tbody tr th:only-of-type {\n        vertical-align: middle;\n    }\n\n    .dataframe tbody tr th {\n        vertical-align: top;\n    }\n\n    .dataframe thead th {\n        text-align: right;\n    }\n</style>\n<table border=\"1\" class=\"dataframe\">\n  <thead>\n    <tr style=\"text-align: right;\">\n      <th></th>\n      <th>Avg Place</th>\n    </tr>\n    <tr>\n      <th>Jumper</th>\n      <th></th>\n    </tr>\n  </thead>\n  <tbody>\n    <tr>\n      <th>WĄSEK Paweł</th>\n      <td>16.583333</td>\n    </tr>\n    <tr>\n      <th>STOCH Kamil</th>\n      <td>25.333333</td>\n    </tr>\n    <tr>\n      <th>ZNISZCZOŁ Aleksander</th>\n      <td>25.363636</td>\n    </tr>\n    <tr>\n      <th>KUBACKI Dawid</th>\n      <td>26.823529</td>\n    </tr>\n    <tr>\n      <th>WOLNY Jakub</th>\n      <td>29.611111</td>\n    </tr>\n    <tr>\n      <th>ŻYŁA Piotr</th>\n      <td>31.571429</td>\n    </tr>\n    <tr>\n      <th>KOT Maciej</th>\n      <td>36.428571</td>\n    </tr>\n    <tr>\n      <th>JUROSZEK Kacper</th>\n      <td>41.500000</td>\n    </tr>\n  </tbody>\n</table>\n</div>"
     },
     "execution_count": 13,
     "metadata": {},
     "output_type": "execute_result"
    }
   ],
   "source": [
    "places_pl = df_results.loc[df_results[\"Country\"] == \"Polska\",[\"Jumper\",\"Place\"]].rename(columns={\"Place\":\"Avg Place\"}).groupby(by=\"Jumper\")\n",
    "avg_polish = places_pl.mean().sort_values(by=\"Avg Place\")\n",
    "avg_polish"
   ]
  },
  {
   "cell_type": "markdown",
   "id": "d4f394b8-e30d-4041-8ce8-7b40370cfcbf",
   "metadata": {},
   "source": [
    "## From which country jumpers are **\"The best\"**?"
   ]
  },
  {
   "cell_type": "code",
   "execution_count": 14,
   "id": "8565af78-91d1-4877-ad04-d766450c7f01",
   "metadata": {
    "ExecuteTime": {
     "end_time": "2025-03-14T10:09:55.864491Z",
     "start_time": "2025-03-14T10:09:55.849964Z"
    }
   },
   "outputs": [
    {
     "data": {
      "text/plain": "                  Jump\nCountry               \nUkraina     136.888889\nAustria     136.779412\nNorwegia    133.459016\nBułgaria    132.485294\nNiemcy      132.259336\nJaponia     130.175676\nSłowenia    129.758824\nPolska      129.512821\nFrancja     128.837500\nSzwajcaria  128.287037\nUSA         125.720000\nFinlandia   125.520270\nEstonia     122.474359\nTurcja      120.210526\nCzechy      117.875000\nWłochy      116.653846\nKazachstan  103.500000\nChiny       102.000000",
      "text/html": "<div>\n<style scoped>\n    .dataframe tbody tr th:only-of-type {\n        vertical-align: middle;\n    }\n\n    .dataframe tbody tr th {\n        vertical-align: top;\n    }\n\n    .dataframe thead th {\n        text-align: right;\n    }\n</style>\n<table border=\"1\" class=\"dataframe\">\n  <thead>\n    <tr style=\"text-align: right;\">\n      <th></th>\n      <th>Jump</th>\n    </tr>\n    <tr>\n      <th>Country</th>\n      <th></th>\n    </tr>\n  </thead>\n  <tbody>\n    <tr>\n      <th>Ukraina</th>\n      <td>136.888889</td>\n    </tr>\n    <tr>\n      <th>Austria</th>\n      <td>136.779412</td>\n    </tr>\n    <tr>\n      <th>Norwegia</th>\n      <td>133.459016</td>\n    </tr>\n    <tr>\n      <th>Bułgaria</th>\n      <td>132.485294</td>\n    </tr>\n    <tr>\n      <th>Niemcy</th>\n      <td>132.259336</td>\n    </tr>\n    <tr>\n      <th>Japonia</th>\n      <td>130.175676</td>\n    </tr>\n    <tr>\n      <th>Słowenia</th>\n      <td>129.758824</td>\n    </tr>\n    <tr>\n      <th>Polska</th>\n      <td>129.512821</td>\n    </tr>\n    <tr>\n      <th>Francja</th>\n      <td>128.837500</td>\n    </tr>\n    <tr>\n      <th>Szwajcaria</th>\n      <td>128.287037</td>\n    </tr>\n    <tr>\n      <th>USA</th>\n      <td>125.720000</td>\n    </tr>\n    <tr>\n      <th>Finlandia</th>\n      <td>125.520270</td>\n    </tr>\n    <tr>\n      <th>Estonia</th>\n      <td>122.474359</td>\n    </tr>\n    <tr>\n      <th>Turcja</th>\n      <td>120.210526</td>\n    </tr>\n    <tr>\n      <th>Czechy</th>\n      <td>117.875000</td>\n    </tr>\n    <tr>\n      <th>Włochy</th>\n      <td>116.653846</td>\n    </tr>\n    <tr>\n      <th>Kazachstan</th>\n      <td>103.500000</td>\n    </tr>\n    <tr>\n      <th>Chiny</th>\n      <td>102.000000</td>\n    </tr>\n  </tbody>\n</table>\n</div>"
     },
     "execution_count": 14,
     "metadata": {},
     "output_type": "execute_result"
    }
   ],
   "source": [
    "dfx = df_jumps[[\"Country_x\",\"Jump\"]].rename(columns={\"Country_x\":\"Country\"}).groupby(by=\"Country\")\n",
    "dfx = dfx.mean().sort_values(by=\"Jump\",ascending=False)\n",
    "dfx"
   ]
  },
  {
   "cell_type": "markdown",
   "id": "ff930cd9-db5f-4698-821d-07d341249ddb",
   "metadata": {},
   "source": [
    "This table shows real data, but we can't look at it like this.\n",
    "Generally, at the top, we have strong countries like Austria or Norwegia, and weaker ones like China or Kazakhstan at the bottom – based on [this data](https://www.skijumping.pl/wyniki/klasyfikacja/ps/puchar_narodow/2024-2025).\n",
    "However, there are some interesting differences. Ukraine or Bulgaria are at the top, while the USA, despite having good jumpers, is lower.\n",
    "This is because Ukraine and Bulgaria have only 1-2 top jumpers, whereas the USA has some solid or average jumpers, but also often has some bad ones that drag the overall statistic down."
   ]
  },
  {
   "cell_type": "code",
   "execution_count": 15,
   "id": "4d858f8e-ba24-4d18-823d-30f648805108",
   "metadata": {
    "ExecuteTime": {
     "end_time": "2025-03-14T10:10:50.919874Z",
     "start_time": "2025-03-14T10:10:50.899399Z"
    }
   },
   "outputs": [
    {
     "data": {
      "text/plain": "Country\nAustria       11\nNiemcy        10\nNorwegia      10\nJaponia       10\nSłowenia       8\nPolska         8\nFinlandia      7\nUSA            7\nSzwajcaria     6\nChiny          2\nUkraina        2\nTurcja         2\nKazachstan     2\nFrancja        2\nWłochy         2\nBułgaria       1\nCzechy         1\nEstonia        1\nName: Jumper, dtype: int64"
     },
     "execution_count": 15,
     "metadata": {},
     "output_type": "execute_result"
    }
   ],
   "source": [
    "dfx = df_results.groupby(by=\"Country\")\n",
    "dfx = dfx[\"Jumper\"].nunique().sort_values(ascending=False)\n",
    "dfx"
   ]
  },
  {
   "cell_type": "markdown",
   "id": "fa958bb6-ba18-4a31-837f-d22a503001d7",
   "metadata": {},
   "source": [
    "As we can see, the number of distinct jumpers from each country is not equal. Let's try to repeat the previous calculations, but this time, we'll focus only on the top 4 jumpers from each country. We'll skip countries with only 1-2 jumpers. Let's find out who the top 4 jumpers are from every country."
   ]
  },
  {
   "cell_type": "markdown",
   "id": "4b3aaa32-4f11-4d90-88cf-df24af847968",
   "metadata": {},
   "source": [
    "Theres no one perfect method to make decision, we can for example calculate sum of little points get during whole season. "
   ]
  },
  {
   "cell_type": "code",
   "execution_count": 16,
   "id": "9cd7c2c9-91ee-4cc2-a88a-4c23647e5146",
   "metadata": {
    "scrolled": true,
    "ExecuteTime": {
     "end_time": "2025-03-14T10:11:07.835378Z",
     "start_time": "2025-03-14T10:11:07.820355Z"
    }
   },
   "outputs": [
    {
     "data": {
      "text/plain": "           Points                    City  HS_Point  K_Point\nEvent_id                                                    \n18        331.485              Oberstdorf       235      200\n17        330.555              Oberstdorf       235      200\n11        224.620              Oberstdorf       137      120\n1         217.752             Lillehammer       140      123\n14        215.562           Bischofshofen       142      125\n16        208.948                Zakopane       140      125\n9         204.178               Engelberg       140      125\n6         201.904                   Wisła       134      120\n20        199.752               Willingen       147      130\n3         198.392                    Ruka       142      120\n12        197.588  Garmisch-Partenkirchen       142      125\n8         196.056        Titisee-Neustadt       142      125\n5         195.350                   Wisła       134      120\n7         193.592        Titisee-Neustadt       142      125\n22        188.016             Lake Placid       128      115\n19        186.022               Willingen       147      130\n13        183.136               Innsbruck       128      120\n10        178.958               Engelberg       140      125\n25        178.662                    Oslo       134      120\n24        176.986                 Sapporo       137      123\n21        175.014             Lake Placid       128      115\n2         173.122             Lillehammer       140      123\n23        171.376                 Sapporo       137      123\n4          86.536                    Ruka       142      120",
      "text/html": "<div>\n<style scoped>\n    .dataframe tbody tr th:only-of-type {\n        vertical-align: middle;\n    }\n\n    .dataframe tbody tr th {\n        vertical-align: top;\n    }\n\n    .dataframe thead th {\n        text-align: right;\n    }\n</style>\n<table border=\"1\" class=\"dataframe\">\n  <thead>\n    <tr style=\"text-align: right;\">\n      <th></th>\n      <th>Points</th>\n      <th>City</th>\n      <th>HS_Point</th>\n      <th>K_Point</th>\n    </tr>\n    <tr>\n      <th>Event_id</th>\n      <th></th>\n      <th></th>\n      <th></th>\n      <th></th>\n    </tr>\n  </thead>\n  <tbody>\n    <tr>\n      <th>18</th>\n      <td>331.485</td>\n      <td>Oberstdorf</td>\n      <td>235</td>\n      <td>200</td>\n    </tr>\n    <tr>\n      <th>17</th>\n      <td>330.555</td>\n      <td>Oberstdorf</td>\n      <td>235</td>\n      <td>200</td>\n    </tr>\n    <tr>\n      <th>11</th>\n      <td>224.620</td>\n      <td>Oberstdorf</td>\n      <td>137</td>\n      <td>120</td>\n    </tr>\n    <tr>\n      <th>1</th>\n      <td>217.752</td>\n      <td>Lillehammer</td>\n      <td>140</td>\n      <td>123</td>\n    </tr>\n    <tr>\n      <th>14</th>\n      <td>215.562</td>\n      <td>Bischofshofen</td>\n      <td>142</td>\n      <td>125</td>\n    </tr>\n    <tr>\n      <th>16</th>\n      <td>208.948</td>\n      <td>Zakopane</td>\n      <td>140</td>\n      <td>125</td>\n    </tr>\n    <tr>\n      <th>9</th>\n      <td>204.178</td>\n      <td>Engelberg</td>\n      <td>140</td>\n      <td>125</td>\n    </tr>\n    <tr>\n      <th>6</th>\n      <td>201.904</td>\n      <td>Wisła</td>\n      <td>134</td>\n      <td>120</td>\n    </tr>\n    <tr>\n      <th>20</th>\n      <td>199.752</td>\n      <td>Willingen</td>\n      <td>147</td>\n      <td>130</td>\n    </tr>\n    <tr>\n      <th>3</th>\n      <td>198.392</td>\n      <td>Ruka</td>\n      <td>142</td>\n      <td>120</td>\n    </tr>\n    <tr>\n      <th>12</th>\n      <td>197.588</td>\n      <td>Garmisch-Partenkirchen</td>\n      <td>142</td>\n      <td>125</td>\n    </tr>\n    <tr>\n      <th>8</th>\n      <td>196.056</td>\n      <td>Titisee-Neustadt</td>\n      <td>142</td>\n      <td>125</td>\n    </tr>\n    <tr>\n      <th>5</th>\n      <td>195.350</td>\n      <td>Wisła</td>\n      <td>134</td>\n      <td>120</td>\n    </tr>\n    <tr>\n      <th>7</th>\n      <td>193.592</td>\n      <td>Titisee-Neustadt</td>\n      <td>142</td>\n      <td>125</td>\n    </tr>\n    <tr>\n      <th>22</th>\n      <td>188.016</td>\n      <td>Lake Placid</td>\n      <td>128</td>\n      <td>115</td>\n    </tr>\n    <tr>\n      <th>19</th>\n      <td>186.022</td>\n      <td>Willingen</td>\n      <td>147</td>\n      <td>130</td>\n    </tr>\n    <tr>\n      <th>13</th>\n      <td>183.136</td>\n      <td>Innsbruck</td>\n      <td>128</td>\n      <td>120</td>\n    </tr>\n    <tr>\n      <th>10</th>\n      <td>178.958</td>\n      <td>Engelberg</td>\n      <td>140</td>\n      <td>125</td>\n    </tr>\n    <tr>\n      <th>25</th>\n      <td>178.662</td>\n      <td>Oslo</td>\n      <td>134</td>\n      <td>120</td>\n    </tr>\n    <tr>\n      <th>24</th>\n      <td>176.986</td>\n      <td>Sapporo</td>\n      <td>137</td>\n      <td>123</td>\n    </tr>\n    <tr>\n      <th>21</th>\n      <td>175.014</td>\n      <td>Lake Placid</td>\n      <td>128</td>\n      <td>115</td>\n    </tr>\n    <tr>\n      <th>2</th>\n      <td>173.122</td>\n      <td>Lillehammer</td>\n      <td>140</td>\n      <td>123</td>\n    </tr>\n    <tr>\n      <th>23</th>\n      <td>171.376</td>\n      <td>Sapporo</td>\n      <td>137</td>\n      <td>123</td>\n    </tr>\n    <tr>\n      <th>4</th>\n      <td>86.536</td>\n      <td>Ruka</td>\n      <td>142</td>\n      <td>120</td>\n    </tr>\n  </tbody>\n</table>\n</div>"
     },
     "execution_count": 16,
     "metadata": {},
     "output_type": "execute_result"
    }
   ],
   "source": [
    "dfx = df_merged.groupby(\"Event_id\")[[\"Points\", \"City\", \"HS_Point\", \"K_Point\"]]\n",
    "dfx = dfx.agg({\"Points\": \"mean\", \"City\": \"first\", \"HS_Point\":\"first\",\"K_Point\":\"first\"})\n",
    "\n",
    "dfx.sort_values(by=\"Points\", inplace=True, ascending=False)\n",
    "\n",
    "dfx"
   ]
  },
  {
   "cell_type": "code",
   "execution_count": 17,
   "id": "912ee554-5e24-4e4c-898f-d586e7cf0eea",
   "metadata": {
    "ExecuteTime": {
     "end_time": "2025-03-14T10:11:10.779475Z",
     "start_time": "2025-03-14T10:11:10.765804Z"
    }
   },
   "outputs": [
    {
     "name": "stdout",
     "output_type": "stream",
     "text": [
      "0.8467354833021605\n"
     ]
    }
   ],
   "source": [
    "print( dfx['Points'].corr(dfx['K_Point']))"
   ]
  },
  {
   "cell_type": "markdown",
   "id": "ac764705-5e3b-4b4a-ac72-0aeb4f5d98e2",
   "metadata": {},
   "source": [
    "As we can see, average points the jumper got during competiotion (jumps length + wind/gate + judges) is different, and the correlation between hill size (k_point) and points is big. \n",
    "So people who are good at jumping on \"Ski flying hill's\" will get extra points \"for free\" while winning.  \n",
    "\n",
    "On the other hand, situation where jumper from the 1st place win with jumper from 4th place with substraction of 1 competition points is common.\n",
    "But in this situation the jumper from 4rd place get 50 points less World Cup Points"
   ]
  },
  {
   "cell_type": "markdown",
   "id": "a0618c24-fa0f-4681-b7f9-f385548becef",
   "metadata": {},
   "source": [
    "**Sum of competition points collected by jumper**"
   ]
  },
  {
   "cell_type": "code",
   "execution_count": 18,
   "id": "8d24f578-008d-4e62-b866-36007a84e8bd",
   "metadata": {
    "ExecuteTime": {
     "end_time": "2025-03-14T10:11:25.306417Z",
     "start_time": "2025-03-14T10:11:25.293411Z"
    }
   },
   "outputs": [
    {
     "data": {
      "text/plain": "                    Points\nJumper                    \nTSCHOFENIG Daniel   6978.4\nHOERL Jan           6892.8\nDESCHWANDEN Gregor  6589.0\nKRAFT Stefan        6563.3\nWELLINGER Andreas   6458.0\n...                    ...\nPALOSAARI Vilho       80.6\nKASAI Noriaki         75.4\nDEAN Decker           70.1\nSONG Qiwu             69.4\nZHEN Weijie           43.1\n\n[92 rows x 1 columns]",
      "text/html": "<div>\n<style scoped>\n    .dataframe tbody tr th:only-of-type {\n        vertical-align: middle;\n    }\n\n    .dataframe tbody tr th {\n        vertical-align: top;\n    }\n\n    .dataframe thead th {\n        text-align: right;\n    }\n</style>\n<table border=\"1\" class=\"dataframe\">\n  <thead>\n    <tr style=\"text-align: right;\">\n      <th></th>\n      <th>Points</th>\n    </tr>\n    <tr>\n      <th>Jumper</th>\n      <th></th>\n    </tr>\n  </thead>\n  <tbody>\n    <tr>\n      <th>TSCHOFENIG Daniel</th>\n      <td>6978.4</td>\n    </tr>\n    <tr>\n      <th>HOERL Jan</th>\n      <td>6892.8</td>\n    </tr>\n    <tr>\n      <th>DESCHWANDEN Gregor</th>\n      <td>6589.0</td>\n    </tr>\n    <tr>\n      <th>KRAFT Stefan</th>\n      <td>6563.3</td>\n    </tr>\n    <tr>\n      <th>WELLINGER Andreas</th>\n      <td>6458.0</td>\n    </tr>\n    <tr>\n      <th>...</th>\n      <td>...</td>\n    </tr>\n    <tr>\n      <th>PALOSAARI Vilho</th>\n      <td>80.6</td>\n    </tr>\n    <tr>\n      <th>KASAI Noriaki</th>\n      <td>75.4</td>\n    </tr>\n    <tr>\n      <th>DEAN Decker</th>\n      <td>70.1</td>\n    </tr>\n    <tr>\n      <th>SONG Qiwu</th>\n      <td>69.4</td>\n    </tr>\n    <tr>\n      <th>ZHEN Weijie</th>\n      <td>43.1</td>\n    </tr>\n  </tbody>\n</table>\n<p>92 rows × 1 columns</p>\n</div>"
     },
     "execution_count": 18,
     "metadata": {},
     "output_type": "execute_result"
    }
   ],
   "source": [
    "dfx = df_results[[\"Jumper\", \"Points\"]].groupby(by=\"Jumper\").sum().sort_values(by=\"Points\",ascending=False)\n",
    "dfx"
   ]
  },
  {
   "cell_type": "code",
   "execution_count": 19,
   "id": "32ff3a49-371f-422e-8c1d-aff3a90cfe60",
   "metadata": {
    "ExecuteTime": {
     "end_time": "2025-03-14T10:11:44.339796Z",
     "start_time": "2025-03-14T10:11:44.327491Z"
    }
   },
   "outputs": [
    {
     "data": {
      "text/plain": "   Place              Jumper  Country  Jump1  Jump2  Points  Event_id  \\\n0      1        PASCHKE Pius   Niemcy  131.5  138.5   317.1         1   \n1      2  TSCHOFENIG Daniel   Austria  132.5  132.5   309.2         1   \n2      3   ORTNER Maximilian  Austria  132.0  131.5   307.1         1   \n3      4        KRAFT Stefan  Austria  133.0  130.0   306.0         1   \n4      5           HOERL Jan  Austria  128.5  130.0   300.9         1   \n\n   WCPoints  \n0     100.0  \n1      80.0  \n2      60.0  \n3      50.0  \n4      45.0  ",
      "text/html": "<div>\n<style scoped>\n    .dataframe tbody tr th:only-of-type {\n        vertical-align: middle;\n    }\n\n    .dataframe tbody tr th {\n        vertical-align: top;\n    }\n\n    .dataframe thead th {\n        text-align: right;\n    }\n</style>\n<table border=\"1\" class=\"dataframe\">\n  <thead>\n    <tr style=\"text-align: right;\">\n      <th></th>\n      <th>Place</th>\n      <th>Jumper</th>\n      <th>Country</th>\n      <th>Jump1</th>\n      <th>Jump2</th>\n      <th>Points</th>\n      <th>Event_id</th>\n      <th>WCPoints</th>\n    </tr>\n  </thead>\n  <tbody>\n    <tr>\n      <th>0</th>\n      <td>1</td>\n      <td>PASCHKE Pius</td>\n      <td>Niemcy</td>\n      <td>131.5</td>\n      <td>138.5</td>\n      <td>317.1</td>\n      <td>1</td>\n      <td>100.0</td>\n    </tr>\n    <tr>\n      <th>1</th>\n      <td>2</td>\n      <td>TSCHOFENIG Daniel</td>\n      <td>Austria</td>\n      <td>132.5</td>\n      <td>132.5</td>\n      <td>309.2</td>\n      <td>1</td>\n      <td>80.0</td>\n    </tr>\n    <tr>\n      <th>2</th>\n      <td>3</td>\n      <td>ORTNER Maximilian</td>\n      <td>Austria</td>\n      <td>132.0</td>\n      <td>131.5</td>\n      <td>307.1</td>\n      <td>1</td>\n      <td>60.0</td>\n    </tr>\n    <tr>\n      <th>3</th>\n      <td>4</td>\n      <td>KRAFT Stefan</td>\n      <td>Austria</td>\n      <td>133.0</td>\n      <td>130.0</td>\n      <td>306.0</td>\n      <td>1</td>\n      <td>50.0</td>\n    </tr>\n    <tr>\n      <th>4</th>\n      <td>5</td>\n      <td>HOERL Jan</td>\n      <td>Austria</td>\n      <td>128.5</td>\n      <td>130.0</td>\n      <td>300.9</td>\n      <td>1</td>\n      <td>45.0</td>\n    </tr>\n  </tbody>\n</table>\n</div>"
     },
     "execution_count": 19,
     "metadata": {},
     "output_type": "execute_result"
    }
   ],
   "source": [
    "\n",
    "wc_points_dict = {\n",
    "    1: 100, 2: 80, 3: 60, 4: 50, 5: 45, 6: 40, 7: 36, 8: 32,\n",
    "    9: 29, 10: 26, 11: 24, 12: 22, 13: 20, 14: 18, 15: 16,\n",
    "    16: 15, 17: 14, 18: 13, 19: 12, 20: 11, 21: 10, 22: 9,\n",
    "    23: 8, 24: 7, 25: 6, 26: 5, 27: 4, 28: 3, 29: 2, 30: 1\n",
    "}\n",
    "df_results['WCPoints'] = df_results['Place'].map(wc_points_dict)\n",
    "\n",
    "df_results.head()"
   ]
  },
  {
   "cell_type": "markdown",
   "id": "3237ceb6-ce07-4532-9c59-37db4df2a6d6",
   "metadata": {},
   "source": [
    "**Both Competition and World Cup, sum of  Poinst collected by jumper**"
   ]
  },
  {
   "cell_type": "code",
   "execution_count": 20,
   "id": "196b20a6-ed8d-4a32-a19a-22f406ee2ed5",
   "metadata": {
    "ExecuteTime": {
     "end_time": "2025-03-14T10:11:48.788186Z",
     "start_time": "2025-03-14T10:11:48.773661Z"
    }
   },
   "outputs": [
    {
     "data": {
      "text/plain": "                           Points  WCPoints\nJumper                                     \nTSCHOFENIG Daniel          6978.4    1635.0\nHOERL Jan                  6892.8    1503.0\nKRAFT Stefan               6563.3    1053.0\nFORFANG Johann Andre       6225.6     955.0\nPASCHKE Pius               5515.6     883.0\nDESCHWANDEN Gregor         6589.0     869.0\nSUNDAL Kristoffer Eriksen  6074.8     678.0\nLANISEK Anze               5641.4     671.0\nWELLINGER Andreas          6458.0     669.0\nKOBAYASHI Ryoyu            5928.8     666.0",
      "text/html": "<div>\n<style scoped>\n    .dataframe tbody tr th:only-of-type {\n        vertical-align: middle;\n    }\n\n    .dataframe tbody tr th {\n        vertical-align: top;\n    }\n\n    .dataframe thead th {\n        text-align: right;\n    }\n</style>\n<table border=\"1\" class=\"dataframe\">\n  <thead>\n    <tr style=\"text-align: right;\">\n      <th></th>\n      <th>Points</th>\n      <th>WCPoints</th>\n    </tr>\n    <tr>\n      <th>Jumper</th>\n      <th></th>\n      <th></th>\n    </tr>\n  </thead>\n  <tbody>\n    <tr>\n      <th>TSCHOFENIG Daniel</th>\n      <td>6978.4</td>\n      <td>1635.0</td>\n    </tr>\n    <tr>\n      <th>HOERL Jan</th>\n      <td>6892.8</td>\n      <td>1503.0</td>\n    </tr>\n    <tr>\n      <th>KRAFT Stefan</th>\n      <td>6563.3</td>\n      <td>1053.0</td>\n    </tr>\n    <tr>\n      <th>FORFANG Johann Andre</th>\n      <td>6225.6</td>\n      <td>955.0</td>\n    </tr>\n    <tr>\n      <th>PASCHKE Pius</th>\n      <td>5515.6</td>\n      <td>883.0</td>\n    </tr>\n    <tr>\n      <th>DESCHWANDEN Gregor</th>\n      <td>6589.0</td>\n      <td>869.0</td>\n    </tr>\n    <tr>\n      <th>SUNDAL Kristoffer Eriksen</th>\n      <td>6074.8</td>\n      <td>678.0</td>\n    </tr>\n    <tr>\n      <th>LANISEK Anze</th>\n      <td>5641.4</td>\n      <td>671.0</td>\n    </tr>\n    <tr>\n      <th>WELLINGER Andreas</th>\n      <td>6458.0</td>\n      <td>669.0</td>\n    </tr>\n    <tr>\n      <th>KOBAYASHI Ryoyu</th>\n      <td>5928.8</td>\n      <td>666.0</td>\n    </tr>\n  </tbody>\n</table>\n</div>"
     },
     "execution_count": 20,
     "metadata": {},
     "output_type": "execute_result"
    }
   ],
   "source": [
    "dfx = df_results[[\"Jumper\", \"Points\", \"WCPoints\"]].groupby(by=\"Jumper\").sum().sort_values(by=\"WCPoints\",ascending=False)\n",
    "dfx.head(10)"
   ]
  },
  {
   "cell_type": "markdown",
   "id": "405478af-516e-4a2b-a9e5-fe1518b6b1eb",
   "metadata": {},
   "source": [
    "Lets look on Pius Paschke, while he has collected \"only\" 5515,6 competition this season, he still has 214 more WC points than Andreas Wellinger, even with fact that Andreas has got around 850 competition points more.\n",
    "\n",
    "In this situation, to choose best 4's we will use wages. Both  competition and WC points will have wage equal 50% (0.5)\n",
    "\n",
    "This method is still not perfect, but as it was said - its pretty hard to find and define the perfect method. So we will use this method while its good enough"
   ]
  },
  {
   "cell_type": "code",
   "execution_count": 21,
   "id": "c7100292-e5ed-4c1a-9589-63c91f6d2a9e",
   "metadata": {
    "ExecuteTime": {
     "end_time": "2025-03-14T10:13:31.830848Z",
     "start_time": "2025-03-14T10:13:31.813643Z"
    }
   },
   "outputs": [
    {
     "data": {
      "text/plain": "                              Country  Points  WCPoints  CombinedPoints\nJumper                                                                 \nTSCHOFENIG Daniel             Austria  6978.4    1635.0         4306.70\nHOERL Jan                     Austria  6892.8    1503.0         4197.90\nKRAFT Stefan                  Austria  6563.3    1053.0         3808.15\nDESCHWANDEN Gregor         Szwajcaria  6589.0     869.0         3729.00\nFORFANG Johann Andre         Norwegia  6225.6     955.0         3590.30\nWELLINGER Andreas              Niemcy  6458.0     669.0         3563.50\nSUNDAL Kristoffer Eriksen    Norwegia  6074.8     678.0         3376.40\nORTNER Maximilian             Austria  6058.4     665.0         3361.70\nKOBAYASHI Ryoyu               Japonia  5928.8     666.0         3297.40\nPASCHKE Pius                   Niemcy  5515.6     883.0         3199.30",
      "text/html": "<div>\n<style scoped>\n    .dataframe tbody tr th:only-of-type {\n        vertical-align: middle;\n    }\n\n    .dataframe tbody tr th {\n        vertical-align: top;\n    }\n\n    .dataframe thead th {\n        text-align: right;\n    }\n</style>\n<table border=\"1\" class=\"dataframe\">\n  <thead>\n    <tr style=\"text-align: right;\">\n      <th></th>\n      <th>Country</th>\n      <th>Points</th>\n      <th>WCPoints</th>\n      <th>CombinedPoints</th>\n    </tr>\n    <tr>\n      <th>Jumper</th>\n      <th></th>\n      <th></th>\n      <th></th>\n      <th></th>\n    </tr>\n  </thead>\n  <tbody>\n    <tr>\n      <th>TSCHOFENIG Daniel</th>\n      <td>Austria</td>\n      <td>6978.4</td>\n      <td>1635.0</td>\n      <td>4306.70</td>\n    </tr>\n    <tr>\n      <th>HOERL Jan</th>\n      <td>Austria</td>\n      <td>6892.8</td>\n      <td>1503.0</td>\n      <td>4197.90</td>\n    </tr>\n    <tr>\n      <th>KRAFT Stefan</th>\n      <td>Austria</td>\n      <td>6563.3</td>\n      <td>1053.0</td>\n      <td>3808.15</td>\n    </tr>\n    <tr>\n      <th>DESCHWANDEN Gregor</th>\n      <td>Szwajcaria</td>\n      <td>6589.0</td>\n      <td>869.0</td>\n      <td>3729.00</td>\n    </tr>\n    <tr>\n      <th>FORFANG Johann Andre</th>\n      <td>Norwegia</td>\n      <td>6225.6</td>\n      <td>955.0</td>\n      <td>3590.30</td>\n    </tr>\n    <tr>\n      <th>WELLINGER Andreas</th>\n      <td>Niemcy</td>\n      <td>6458.0</td>\n      <td>669.0</td>\n      <td>3563.50</td>\n    </tr>\n    <tr>\n      <th>SUNDAL Kristoffer Eriksen</th>\n      <td>Norwegia</td>\n      <td>6074.8</td>\n      <td>678.0</td>\n      <td>3376.40</td>\n    </tr>\n    <tr>\n      <th>ORTNER Maximilian</th>\n      <td>Austria</td>\n      <td>6058.4</td>\n      <td>665.0</td>\n      <td>3361.70</td>\n    </tr>\n    <tr>\n      <th>KOBAYASHI Ryoyu</th>\n      <td>Japonia</td>\n      <td>5928.8</td>\n      <td>666.0</td>\n      <td>3297.40</td>\n    </tr>\n    <tr>\n      <th>PASCHKE Pius</th>\n      <td>Niemcy</td>\n      <td>5515.6</td>\n      <td>883.0</td>\n      <td>3199.30</td>\n    </tr>\n  </tbody>\n</table>\n</div>"
     },
     "execution_count": 21,
     "metadata": {},
     "output_type": "execute_result"
    }
   ],
   "source": [
    "dfx = df_results[[\"Jumper\",\"Country\", \"Points\", \"WCPoints\"]].groupby(by=\"Jumper\").agg({\"Country\":\"first\", \"Points\":\"sum\", \"WCPoints\":\"sum\"})\n",
    "\n",
    "dfx[\"CombinedPoints\"] = dfx[\"Points\"] * 0.5 + dfx[\"WCPoints\"] *0.5\n",
    "\n",
    "dfx.sort_values(by=\"CombinedPoints\", inplace=True, ascending=False)\n",
    "dfx.head(10)"
   ]
  },
  {
   "cell_type": "markdown",
   "id": "6a14736c-7cab-4d4f-810c-4a4f9bb2e686",
   "metadata": {},
   "source": [
    "We still can upgrade it, add some wages to \"debuff\" high points from \"ski flying hills\", but the moment only two competitions on this hills took place and the rest 22 were on normal hills, we will skip this part.\n",
    "\n",
    "Lets get only top4 from every country"
   ]
  },
  {
   "cell_type": "code",
   "execution_count": 24,
   "id": "737c275b-907a-444f-8689-ece54e2d3e4e",
   "metadata": {
    "ExecuteTime": {
     "end_time": "2025-03-14T10:14:18.605589Z",
     "start_time": "2025-03-14T10:14:18.597474Z"
    }
   },
   "outputs": [
    {
     "data": {
      "text/plain": "Index(['Austria', 'Niemcy', 'Norwegia', 'Japonia', 'Słowenia', 'Polska',\n       'Finlandia', 'USA', 'Szwajcaria'],\n      dtype='object', name='Country')"
     },
     "execution_count": 24,
     "metadata": {},
     "output_type": "execute_result"
    }
   ],
   "source": [
    "fx = df_results.groupby(by=\"Country\")\n",
    "fx = fx[\"Jumper\"].nunique().sort_values(ascending=False)\n",
    "\n",
    "\n",
    "#Countries with more than 4 jumpers\n",
    "countries = fx[fx>4].index\n",
    "\n",
    "countries\n"
   ]
  },
  {
   "cell_type": "code",
   "execution_count": 25,
   "id": "d0a22ef8-3421-417c-bddf-c77001fd2cf6",
   "metadata": {
    "scrolled": true,
    "ExecuteTime": {
     "end_time": "2025-03-14T10:14:34.025591Z",
     "start_time": "2025-03-14T10:14:34.007404Z"
    }
   },
   "outputs": [
    {
     "data": {
      "text/plain": "                              Country  Points  WCPoints  CombinedPoints\nJumper                                                                 \nTSCHOFENIG Daniel             Austria  6978.4    1635.0         4306.70\nHOERL Jan                     Austria  6892.8    1503.0         4197.90\nKRAFT Stefan                  Austria  6563.3    1053.0         3808.15\nORTNER Maximilian             Austria  6058.4     665.0         3361.70\nAALTO Antti                 Finlandia  2698.2      45.0         1371.60\nKYTOSAHO Niko               Finlandia  2435.9      28.0         1231.95\nVALTO Kasperi               Finlandia  2057.6       2.0         1029.80\nNOUSIAINEN Eetu             Finlandia   518.2       7.0          262.60\nKOBAYASHI Ryoyu               Japonia  5928.8     666.0         3297.40\nNIKAIDO Ren                   Japonia  5687.7     366.0         3026.85\nNAKAMURA Naoki                Japonia  4424.2     170.0         2297.10\nKOBAYASHI Sakutaro            Japonia  2130.8      35.0         1082.90\nWELLINGER Andreas              Niemcy  6458.0     669.0         3563.50\nPASCHKE Pius                   Niemcy  5515.6     883.0         3199.30\nGEIGER Karl                    Niemcy  5501.5     506.0         3003.75\nRAIMUND Philipp                Niemcy  4688.8     185.0         2436.90\nFORFANG Johann Andre         Norwegia  6225.6     955.0         3590.30\nSUNDAL Kristoffer Eriksen    Norwegia  6074.8     678.0         3376.40\nLINDVIK Marius               Norwegia  5407.6     474.0         2940.80\nGRANERUD Halvor Egner        Norwegia  4701.5     267.0         2484.25\nWĄSEK Paweł                    Polska  5726.3     473.0         3099.65\nZNISZCZOŁ Aleksander           Polska  4661.5     188.0         2424.75\nWOLNY Jakub                    Polska  3475.2     105.0         1790.10\nKUBACKI Dawid                  Polska  3326.0     111.0         1718.50\nDESCHWANDEN Gregor         Szwajcaria  6589.0     869.0         3729.00\nPEIER Killian              Szwajcaria  3721.7     126.0         1923.85\nTRUNZ Felix                Szwajcaria   981.7       0.0          490.85\nAMMANN Simon               Szwajcaria   915.3       2.0          458.65\nLANISEK Anze                 Słowenia  5641.4     671.0         3156.20\nZAJC Timi                    Słowenia  5308.0     414.0         2861.00\nPREVC Domen                  Słowenia  4537.5     448.0         2492.75\nKOS Lovro                    Słowenia  3179.8      99.0         1639.40\nFRANTZ Tate                       USA  5034.7     245.0         2639.85\nBICKNER Kevin                     USA  4268.0     170.0         2219.00\nBELSHAW Erik                      USA  1972.7      26.0          999.35\nLARSON Casey                      USA  1448.1       0.0          724.05",
      "text/html": "<div>\n<style scoped>\n    .dataframe tbody tr th:only-of-type {\n        vertical-align: middle;\n    }\n\n    .dataframe tbody tr th {\n        vertical-align: top;\n    }\n\n    .dataframe thead th {\n        text-align: right;\n    }\n</style>\n<table border=\"1\" class=\"dataframe\">\n  <thead>\n    <tr style=\"text-align: right;\">\n      <th></th>\n      <th>Country</th>\n      <th>Points</th>\n      <th>WCPoints</th>\n      <th>CombinedPoints</th>\n    </tr>\n    <tr>\n      <th>Jumper</th>\n      <th></th>\n      <th></th>\n      <th></th>\n      <th></th>\n    </tr>\n  </thead>\n  <tbody>\n    <tr>\n      <th>TSCHOFENIG Daniel</th>\n      <td>Austria</td>\n      <td>6978.4</td>\n      <td>1635.0</td>\n      <td>4306.70</td>\n    </tr>\n    <tr>\n      <th>HOERL Jan</th>\n      <td>Austria</td>\n      <td>6892.8</td>\n      <td>1503.0</td>\n      <td>4197.90</td>\n    </tr>\n    <tr>\n      <th>KRAFT Stefan</th>\n      <td>Austria</td>\n      <td>6563.3</td>\n      <td>1053.0</td>\n      <td>3808.15</td>\n    </tr>\n    <tr>\n      <th>ORTNER Maximilian</th>\n      <td>Austria</td>\n      <td>6058.4</td>\n      <td>665.0</td>\n      <td>3361.70</td>\n    </tr>\n    <tr>\n      <th>AALTO Antti</th>\n      <td>Finlandia</td>\n      <td>2698.2</td>\n      <td>45.0</td>\n      <td>1371.60</td>\n    </tr>\n    <tr>\n      <th>KYTOSAHO Niko</th>\n      <td>Finlandia</td>\n      <td>2435.9</td>\n      <td>28.0</td>\n      <td>1231.95</td>\n    </tr>\n    <tr>\n      <th>VALTO Kasperi</th>\n      <td>Finlandia</td>\n      <td>2057.6</td>\n      <td>2.0</td>\n      <td>1029.80</td>\n    </tr>\n    <tr>\n      <th>NOUSIAINEN Eetu</th>\n      <td>Finlandia</td>\n      <td>518.2</td>\n      <td>7.0</td>\n      <td>262.60</td>\n    </tr>\n    <tr>\n      <th>KOBAYASHI Ryoyu</th>\n      <td>Japonia</td>\n      <td>5928.8</td>\n      <td>666.0</td>\n      <td>3297.40</td>\n    </tr>\n    <tr>\n      <th>NIKAIDO Ren</th>\n      <td>Japonia</td>\n      <td>5687.7</td>\n      <td>366.0</td>\n      <td>3026.85</td>\n    </tr>\n    <tr>\n      <th>NAKAMURA Naoki</th>\n      <td>Japonia</td>\n      <td>4424.2</td>\n      <td>170.0</td>\n      <td>2297.10</td>\n    </tr>\n    <tr>\n      <th>KOBAYASHI Sakutaro</th>\n      <td>Japonia</td>\n      <td>2130.8</td>\n      <td>35.0</td>\n      <td>1082.90</td>\n    </tr>\n    <tr>\n      <th>WELLINGER Andreas</th>\n      <td>Niemcy</td>\n      <td>6458.0</td>\n      <td>669.0</td>\n      <td>3563.50</td>\n    </tr>\n    <tr>\n      <th>PASCHKE Pius</th>\n      <td>Niemcy</td>\n      <td>5515.6</td>\n      <td>883.0</td>\n      <td>3199.30</td>\n    </tr>\n    <tr>\n      <th>GEIGER Karl</th>\n      <td>Niemcy</td>\n      <td>5501.5</td>\n      <td>506.0</td>\n      <td>3003.75</td>\n    </tr>\n    <tr>\n      <th>RAIMUND Philipp</th>\n      <td>Niemcy</td>\n      <td>4688.8</td>\n      <td>185.0</td>\n      <td>2436.90</td>\n    </tr>\n    <tr>\n      <th>FORFANG Johann Andre</th>\n      <td>Norwegia</td>\n      <td>6225.6</td>\n      <td>955.0</td>\n      <td>3590.30</td>\n    </tr>\n    <tr>\n      <th>SUNDAL Kristoffer Eriksen</th>\n      <td>Norwegia</td>\n      <td>6074.8</td>\n      <td>678.0</td>\n      <td>3376.40</td>\n    </tr>\n    <tr>\n      <th>LINDVIK Marius</th>\n      <td>Norwegia</td>\n      <td>5407.6</td>\n      <td>474.0</td>\n      <td>2940.80</td>\n    </tr>\n    <tr>\n      <th>GRANERUD Halvor Egner</th>\n      <td>Norwegia</td>\n      <td>4701.5</td>\n      <td>267.0</td>\n      <td>2484.25</td>\n    </tr>\n    <tr>\n      <th>WĄSEK Paweł</th>\n      <td>Polska</td>\n      <td>5726.3</td>\n      <td>473.0</td>\n      <td>3099.65</td>\n    </tr>\n    <tr>\n      <th>ZNISZCZOŁ Aleksander</th>\n      <td>Polska</td>\n      <td>4661.5</td>\n      <td>188.0</td>\n      <td>2424.75</td>\n    </tr>\n    <tr>\n      <th>WOLNY Jakub</th>\n      <td>Polska</td>\n      <td>3475.2</td>\n      <td>105.0</td>\n      <td>1790.10</td>\n    </tr>\n    <tr>\n      <th>KUBACKI Dawid</th>\n      <td>Polska</td>\n      <td>3326.0</td>\n      <td>111.0</td>\n      <td>1718.50</td>\n    </tr>\n    <tr>\n      <th>DESCHWANDEN Gregor</th>\n      <td>Szwajcaria</td>\n      <td>6589.0</td>\n      <td>869.0</td>\n      <td>3729.00</td>\n    </tr>\n    <tr>\n      <th>PEIER Killian</th>\n      <td>Szwajcaria</td>\n      <td>3721.7</td>\n      <td>126.0</td>\n      <td>1923.85</td>\n    </tr>\n    <tr>\n      <th>TRUNZ Felix</th>\n      <td>Szwajcaria</td>\n      <td>981.7</td>\n      <td>0.0</td>\n      <td>490.85</td>\n    </tr>\n    <tr>\n      <th>AMMANN Simon</th>\n      <td>Szwajcaria</td>\n      <td>915.3</td>\n      <td>2.0</td>\n      <td>458.65</td>\n    </tr>\n    <tr>\n      <th>LANISEK Anze</th>\n      <td>Słowenia</td>\n      <td>5641.4</td>\n      <td>671.0</td>\n      <td>3156.20</td>\n    </tr>\n    <tr>\n      <th>ZAJC Timi</th>\n      <td>Słowenia</td>\n      <td>5308.0</td>\n      <td>414.0</td>\n      <td>2861.00</td>\n    </tr>\n    <tr>\n      <th>PREVC Domen</th>\n      <td>Słowenia</td>\n      <td>4537.5</td>\n      <td>448.0</td>\n      <td>2492.75</td>\n    </tr>\n    <tr>\n      <th>KOS Lovro</th>\n      <td>Słowenia</td>\n      <td>3179.8</td>\n      <td>99.0</td>\n      <td>1639.40</td>\n    </tr>\n    <tr>\n      <th>FRANTZ Tate</th>\n      <td>USA</td>\n      <td>5034.7</td>\n      <td>245.0</td>\n      <td>2639.85</td>\n    </tr>\n    <tr>\n      <th>BICKNER Kevin</th>\n      <td>USA</td>\n      <td>4268.0</td>\n      <td>170.0</td>\n      <td>2219.00</td>\n    </tr>\n    <tr>\n      <th>BELSHAW Erik</th>\n      <td>USA</td>\n      <td>1972.7</td>\n      <td>26.0</td>\n      <td>999.35</td>\n    </tr>\n    <tr>\n      <th>LARSON Casey</th>\n      <td>USA</td>\n      <td>1448.1</td>\n      <td>0.0</td>\n      <td>724.05</td>\n    </tr>\n  </tbody>\n</table>\n</div>"
     },
     "execution_count": 25,
     "metadata": {},
     "output_type": "execute_result"
    }
   ],
   "source": [
    "df_top4 = dfx[dfx[\"Country\"].isin(countries)].groupby(\"Country\").head(4).sort_values(by=[\"Country\",\"CombinedPoints\"], ascending=[True,False])\n",
    "df_top4"
   ]
  },
  {
   "cell_type": "code",
   "execution_count": 26,
   "id": "d09a61d4-05ac-4810-b37f-fe9310f0fbe9",
   "metadata": {
    "ExecuteTime": {
     "end_time": "2025-03-14T10:15:00.219207Z",
     "start_time": "2025-03-14T10:15:00.208428Z"
    }
   },
   "outputs": [
    {
     "data": {
      "text/plain": "            CombinedPoints\nCountry                   \nAustria          3918.6125\nNorwegia         3097.9375\nNiemcy           3050.8625\nSłowenia         2537.3375\nJaponia          2426.0625\nPolska           2258.2500\nSzwajcaria       1650.5875\nUSA              1645.5625\nFinlandia         973.9875",
      "text/html": "<div>\n<style scoped>\n    .dataframe tbody tr th:only-of-type {\n        vertical-align: middle;\n    }\n\n    .dataframe tbody tr th {\n        vertical-align: top;\n    }\n\n    .dataframe thead th {\n        text-align: right;\n    }\n</style>\n<table border=\"1\" class=\"dataframe\">\n  <thead>\n    <tr style=\"text-align: right;\">\n      <th></th>\n      <th>CombinedPoints</th>\n    </tr>\n    <tr>\n      <th>Country</th>\n      <th></th>\n    </tr>\n  </thead>\n  <tbody>\n    <tr>\n      <th>Austria</th>\n      <td>3918.6125</td>\n    </tr>\n    <tr>\n      <th>Norwegia</th>\n      <td>3097.9375</td>\n    </tr>\n    <tr>\n      <th>Niemcy</th>\n      <td>3050.8625</td>\n    </tr>\n    <tr>\n      <th>Słowenia</th>\n      <td>2537.3375</td>\n    </tr>\n    <tr>\n      <th>Japonia</th>\n      <td>2426.0625</td>\n    </tr>\n    <tr>\n      <th>Polska</th>\n      <td>2258.2500</td>\n    </tr>\n    <tr>\n      <th>Szwajcaria</th>\n      <td>1650.5875</td>\n    </tr>\n    <tr>\n      <th>USA</th>\n      <td>1645.5625</td>\n    </tr>\n    <tr>\n      <th>Finlandia</th>\n      <td>973.9875</td>\n    </tr>\n  </tbody>\n</table>\n</div>"
     },
     "execution_count": 26,
     "metadata": {},
     "output_type": "execute_result"
    }
   ],
   "source": [
    "dfx = df_top4[[\"Country\", \"CombinedPoints\"]].groupby(by=\"Country\").mean().sort_values(by=\"CombinedPoints\", ascending=False)\n",
    "dfx"
   ]
  },
  {
   "cell_type": "markdown",
   "id": "7923fe78-0d20-474f-8450-4e8d3c381d42",
   "metadata": {},
   "source": [
    "As a result we got list of countries which we look as accurate. We can say with no doubts, that when we analyse it as a teams, no individuals - the best team of jumpers is from Austria with an advantage of about 800 points in our ranking over Norway and Germany."
   ]
  },
  {
   "cell_type": "markdown",
   "source": [
    "\n",
    "03/14/2025 update: Due to the scandal related to the modifications to the costume, we have to take a slight correction to the results of this team (This only has an effect on the last competition in which 5 players were suspended)"
   ],
   "metadata": {
    "collapsed": false
   },
   "id": "907fe86ce5f7e232"
  },
  {
   "cell_type": "code",
   "outputs": [],
   "source": [],
   "metadata": {
    "collapsed": false
   },
   "id": "4886a70fa57b6bcf"
  }
 ],
 "metadata": {
  "kernelspec": {
   "display_name": "Python 3 (ipykernel)",
   "language": "python",
   "name": "python3"
  },
  "language_info": {
   "codemirror_mode": {
    "name": "ipython",
    "version": 3
   },
   "file_extension": ".py",
   "mimetype": "text/x-python",
   "name": "python",
   "nbconvert_exporter": "python",
   "pygments_lexer": "ipython3",
   "version": "3.12.2"
  }
 },
 "nbformat": 4,
 "nbformat_minor": 5
}
